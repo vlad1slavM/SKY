{
 "cells": [
  {
   "cell_type": "code",
   "execution_count": 9,
   "metadata": {
    "collapsed": true,
    "pycharm": {
     "name": "#%%\n"
    }
   },
   "outputs": [
    {
     "name": "stdout",
     "output_type": "stream",
     "text": [
      "{'max_file_size': 54760833024, 'unlimited_autoupload_enabled': False, 'total_space': 10737418240, 'trash_size': 0, 'is_paid': False, 'used_space': 2454277489, 'system_folders': {'odnoklassniki': 'disk:/Социальные сети/Одноклассники', 'google': 'disk:/Социальные сети/Google+', 'instagram': 'disk:/Социальные сети/Instagram', 'vkontakte': 'disk:/Социальные сети/ВКонтакте', 'mailru': 'disk:/Социальные сети/Мой Мир', 'downloads': 'disk:/Загрузки/', 'applications': 'disk:/Приложения', 'facebook': 'disk:/Социальные сети/Facebook', 'social': 'disk:/Социальные сети/', 'scans': 'disk:/Сканы', 'screenshots': 'disk:/Скриншоты/', 'photostream': 'disk:/Фотокамера/'}, 'user': {'country': 'ru', 'login': 'slava.murashyov', 'display_name': 'Влад Мурашёв', 'uid': '358091094'}, 'revision': 1627392841473733}\n"
     ]
    }
   ],
   "source": [
    "import requests\n",
    "s = requests.Session()\n",
    "headers = {\n",
    "    \"Accept\": \"application/json\",\n",
    "    \"Authorization\": \"OAuth AQAAAAAVWAlWAADLWyVJbHXmPEZSnL1L2TtLTrA\"\n",
    "}\n",
    "r = s.get(\"https://cloud-api.yandex.net/v1/disk\", headers=headers)\n",
    "print(r.json())"
   ]
  },
  {
   "cell_type": "code",
   "execution_count": 2,
   "outputs": [
    {
     "name": "stdout",
     "output_type": "stream",
     "text": [
      "https://downloader.disk.yandex.ru/disk/5247291c611bd4e29be539b5030d464bb844dd833ff756aaa0f3644abd1a5c0b/62426a8c/8tUTqUt6E_wgK_IiNpt4W1NMCF3A18bqdlCCIDpK3FXwpnK1ar1j0qjYpjLHStQIP0xrAVUL-VOqFK_G0bCC7Q%3D%3D?uid=358091094&filename=2.png&disposition=attachment&hash=&limit=0&content_type=image%2Fpng&owner_uid=358091094&fsize=3097819&hid=160abe1ee27cf36b23b8cdcd245d8df6&media_type=image&tknv=v2&etag=a9a2b3a4753edb7ab80c7702f1b00f6e\n",
      "<class 'bytes'>\n"
     ]
    }
   ],
   "source": [
    "import requests\n",
    "s = requests.Session()\n",
    "f = open('2.png', 'wb')\n",
    "headers = {\n",
    "    \"Accept\": \"application/json\",\n",
    "    \"Authorization\": \"OAuth AQAAAAAVWAlWAADLWyVJbHXmPEZSnL1L2TtLTrA\"\n",
    "}\n",
    "params = {\n",
    "        \"path\": 'disk:/гта 5/Еженедельный отчет/Патруль/2.png'\n",
    "    }\n",
    "\n",
    "download_link = requests.get(\"https://cloud-api.yandex.net/v1/disk/resources/download\",\n",
    "                             params=params,\n",
    "                             headers=headers).json()['href']\n",
    "print(download_link)\n",
    "r = requests.get(download_link)\n",
    "print(type(r.content))\n",
    "# f.write(r.content)\n",
    "# f.close()\n"
   ],
   "metadata": {
    "collapsed": false,
    "pycharm": {
     "name": "#%%\n"
    }
   }
  },
  {
   "cell_type": "code",
   "execution_count": null,
   "outputs": [],
   "source": [],
   "metadata": {
    "collapsed": false,
    "pycharm": {
     "name": "#%%\n"
    }
   }
  }
 ],
 "metadata": {
  "kernelspec": {
   "display_name": "Python 3",
   "language": "python",
   "name": "python3"
  },
  "language_info": {
   "codemirror_mode": {
    "name": "ipython",
    "version": 2
   },
   "file_extension": ".py",
   "mimetype": "text/x-python",
   "name": "python",
   "nbconvert_exporter": "python",
   "pygments_lexer": "ipython2",
   "version": "2.7.6"
  }
 },
 "nbformat": 4,
 "nbformat_minor": 0
}