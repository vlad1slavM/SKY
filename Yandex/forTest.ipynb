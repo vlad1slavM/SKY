{
 "cells": [
  {
   "cell_type": "code",
   "execution_count": 9,
   "metadata": {
    "collapsed": true,
    "pycharm": {
     "name": "#%%\n"
    }
   },
   "outputs": [
    {
     "name": "stdout",
     "output_type": "stream",
     "text": [
      "{'max_file_size': 54760833024, 'unlimited_autoupload_enabled': False, 'total_space': 10737418240, 'trash_size': 0, 'is_paid': False, 'used_space': 2454277489, 'system_folders': {'odnoklassniki': 'disk:/Социальные сети/Одноклассники', 'google': 'disk:/Социальные сети/Google+', 'instagram': 'disk:/Социальные сети/Instagram', 'vkontakte': 'disk:/Социальные сети/ВКонтакте', 'mailru': 'disk:/Социальные сети/Мой Мир', 'downloads': 'disk:/Загрузки/', 'applications': 'disk:/Приложения', 'facebook': 'disk:/Социальные сети/Facebook', 'social': 'disk:/Социальные сети/', 'scans': 'disk:/Сканы', 'screenshots': 'disk:/Скриншоты/', 'photostream': 'disk:/Фотокамера/'}, 'user': {'country': 'ru', 'login': 'slava.murashyov', 'display_name': 'Влад Мурашёв', 'uid': '358091094'}, 'revision': 1627392841473733}\n"
     ]
    }
   ],
   "source": [
    "import requests\n",
    "s = requests.Session()\n",
    "headers = {\n",
    "    \"Accept\": \"application/json\",\n",
    "    \"Authorization\": \"OAuth AQAAAAAVWAlWAADLWyVJbHXmPEZSnL1L2TtLTrA\"\n",
    "}\n",
    "r = s.get(\"https://cloud-api.yandex.net/v1/disk\", headers=headers)\n",
    "print(r.json())"
   ]
  },
  {
   "cell_type": "code",
   "execution_count": 2,
   "metadata": {
    "collapsed": false,
    "pycharm": {
     "name": "#%%\n"
    }
   },
   "outputs": [
    {
     "name": "stdout",
     "output_type": "stream",
     "text": [
      "https://downloader.disk.yandex.ru/disk/5247291c611bd4e29be539b5030d464bb844dd833ff756aaa0f3644abd1a5c0b/62426a8c/8tUTqUt6E_wgK_IiNpt4W1NMCF3A18bqdlCCIDpK3FXwpnK1ar1j0qjYpjLHStQIP0xrAVUL-VOqFK_G0bCC7Q%3D%3D?uid=358091094&filename=2.png&disposition=attachment&hash=&limit=0&content_type=image%2Fpng&owner_uid=358091094&fsize=3097819&hid=160abe1ee27cf36b23b8cdcd245d8df6&media_type=image&tknv=v2&etag=a9a2b3a4753edb7ab80c7702f1b00f6e\n",
      "<class 'bytes'>\n"
     ]
    }
   ],
   "source": [
    "import requests\n",
    "s = requests.Session()\n",
    "f = open('2.png', 'wb')\n",
    "headers = {\n",
    "    \"Accept\": \"application/json\",\n",
    "    \"Authorization\": \"OAuth AQAAAAAVWAlWAADLWyVJbHXmPEZSnL1L2TtLTrA\"\n",
    "}\n",
    "params = {\n",
    "        \"path\": 'disk:/гта 5/Еженедельный отчет/Патруль/2.png'\n",
    "    }\n",
    "\n",
    "download_link = requests.get(\"https://cloud-api.yandex.net/v1/disk/resources/download\",\n",
    "                             params=params,\n",
    "                             headers=headers).json()['href']\n",
    "print(download_link)\n",
    "r = requests.get(download_link)\n",
    "print(type(r.content))\n",
    "# f.write(r.content)\n",
    "# f.close()\n"
   ]
  },
  {
   "cell_type": "code",
   "execution_count": 24,
   "metadata": {
    "collapsed": false,
    "pycharm": {
     "name": "#%%\n"
    }
   },
   "outputs": [
    {
     "ename": "KeyboardInterrupt",
     "evalue": "",
     "output_type": "error",
     "traceback": [
      "\u001B[0;31m---------------------------------------------------------------------------\u001B[0m",
      "\u001B[0;31mKeyboardInterrupt\u001B[0m                         Traceback (most recent call last)",
      "Input \u001B[0;32mIn [24]\u001B[0m, in \u001B[0;36m<cell line: 14>\u001B[0;34m()\u001B[0m\n\u001B[1;32m     15\u001B[0m log\u001B[38;5;241m.\u001B[39mdebug(\u001B[38;5;124m\"\u001B[39m\u001B[38;5;124mPISDA\u001B[39m\u001B[38;5;124m\"\u001B[39m)\n\u001B[1;32m     16\u001B[0m log\u001B[38;5;241m.\u001B[39minfo(\u001B[38;5;124m'\u001B[39m\u001B[38;5;124mHYEK\u001B[39m\u001B[38;5;124m'\u001B[39m)\n\u001B[0;32m---> 17\u001B[0m \u001B[43mlog\u001B[49m\u001B[38;5;241;43m.\u001B[39;49m\u001B[43merror\u001B[49m\u001B[43m(\u001B[49m\u001B[38;5;124;43m'\u001B[39;49m\u001B[38;5;124;43mVSE NE TAK\u001B[39;49m\u001B[38;5;124;43m'\u001B[39;49m\u001B[43m)\u001B[49m\n",
      "File \u001B[0;32m/opt/homebrew/Cellar/python@3.9/3.9.12/Frameworks/Python.framework/Versions/3.9/lib/python3.9/logging/__init__.py:1475\u001B[0m, in \u001B[0;36mLogger.error\u001B[0;34m(self, msg, *args, **kwargs)\u001B[0m\n\u001B[1;32m   1466\u001B[0m \u001B[38;5;124;03m\"\"\"\u001B[39;00m\n\u001B[1;32m   1467\u001B[0m \u001B[38;5;124;03mLog 'msg % args' with severity 'ERROR'.\u001B[39;00m\n\u001B[1;32m   1468\u001B[0m \n\u001B[0;32m   (...)\u001B[0m\n\u001B[1;32m   1472\u001B[0m \u001B[38;5;124;03mlogger.error(\"Houston, we have a %s\", \"major problem\", exc_info=1)\u001B[39;00m\n\u001B[1;32m   1473\u001B[0m \u001B[38;5;124;03m\"\"\"\u001B[39;00m\n\u001B[1;32m   1474\u001B[0m \u001B[38;5;28;01mif\u001B[39;00m \u001B[38;5;28mself\u001B[39m\u001B[38;5;241m.\u001B[39misEnabledFor(ERROR):\n\u001B[0;32m-> 1475\u001B[0m     \u001B[38;5;28;43mself\u001B[39;49m\u001B[38;5;241;43m.\u001B[39;49m\u001B[43m_log\u001B[49m\u001B[43m(\u001B[49m\u001B[43mERROR\u001B[49m\u001B[43m,\u001B[49m\u001B[43m \u001B[49m\u001B[43mmsg\u001B[49m\u001B[43m,\u001B[49m\u001B[43m \u001B[49m\u001B[43margs\u001B[49m\u001B[43m,\u001B[49m\u001B[43m \u001B[49m\u001B[38;5;241;43m*\u001B[39;49m\u001B[38;5;241;43m*\u001B[39;49m\u001B[43mkwargs\u001B[49m\u001B[43m)\u001B[49m\n",
      "File \u001B[0;32m/opt/homebrew/Cellar/python@3.9/3.9.12/Frameworks/Python.framework/Versions/3.9/lib/python3.9/logging/__init__.py:1589\u001B[0m, in \u001B[0;36mLogger._log\u001B[0;34m(self, level, msg, args, exc_info, extra, stack_info, stacklevel)\u001B[0m\n\u001B[1;32m   1586\u001B[0m         exc_info \u001B[38;5;241m=\u001B[39m sys\u001B[38;5;241m.\u001B[39mexc_info()\n\u001B[1;32m   1587\u001B[0m record \u001B[38;5;241m=\u001B[39m \u001B[38;5;28mself\u001B[39m\u001B[38;5;241m.\u001B[39mmakeRecord(\u001B[38;5;28mself\u001B[39m\u001B[38;5;241m.\u001B[39mname, level, fn, lno, msg, args,\n\u001B[1;32m   1588\u001B[0m                          exc_info, func, extra, sinfo)\n\u001B[0;32m-> 1589\u001B[0m \u001B[38;5;28;43mself\u001B[39;49m\u001B[38;5;241;43m.\u001B[39;49m\u001B[43mhandle\u001B[49m\u001B[43m(\u001B[49m\u001B[43mrecord\u001B[49m\u001B[43m)\u001B[49m\n",
      "File \u001B[0;32m/opt/homebrew/Cellar/python@3.9/3.9.12/Frameworks/Python.framework/Versions/3.9/lib/python3.9/logging/__init__.py:1599\u001B[0m, in \u001B[0;36mLogger.handle\u001B[0;34m(self, record)\u001B[0m\n\u001B[1;32m   1592\u001B[0m \u001B[38;5;124;03m\"\"\"\u001B[39;00m\n\u001B[1;32m   1593\u001B[0m \u001B[38;5;124;03mCall the handlers for the specified record.\u001B[39;00m\n\u001B[1;32m   1594\u001B[0m \n\u001B[1;32m   1595\u001B[0m \u001B[38;5;124;03mThis method is used for unpickled records received from a socket, as\u001B[39;00m\n\u001B[1;32m   1596\u001B[0m \u001B[38;5;124;03mwell as those created locally. Logger-level filtering is applied.\u001B[39;00m\n\u001B[1;32m   1597\u001B[0m \u001B[38;5;124;03m\"\"\"\u001B[39;00m\n\u001B[1;32m   1598\u001B[0m \u001B[38;5;28;01mif\u001B[39;00m (\u001B[38;5;129;01mnot\u001B[39;00m \u001B[38;5;28mself\u001B[39m\u001B[38;5;241m.\u001B[39mdisabled) \u001B[38;5;129;01mand\u001B[39;00m \u001B[38;5;28mself\u001B[39m\u001B[38;5;241m.\u001B[39mfilter(record):\n\u001B[0;32m-> 1599\u001B[0m     \u001B[38;5;28;43mself\u001B[39;49m\u001B[38;5;241;43m.\u001B[39;49m\u001B[43mcallHandlers\u001B[49m\u001B[43m(\u001B[49m\u001B[43mrecord\u001B[49m\u001B[43m)\u001B[49m\n",
      "File \u001B[0;32m/opt/homebrew/Cellar/python@3.9/3.9.12/Frameworks/Python.framework/Versions/3.9/lib/python3.9/logging/__init__.py:1661\u001B[0m, in \u001B[0;36mLogger.callHandlers\u001B[0;34m(self, record)\u001B[0m\n\u001B[1;32m   1659\u001B[0m     found \u001B[38;5;241m=\u001B[39m found \u001B[38;5;241m+\u001B[39m \u001B[38;5;241m1\u001B[39m\n\u001B[1;32m   1660\u001B[0m     \u001B[38;5;28;01mif\u001B[39;00m record\u001B[38;5;241m.\u001B[39mlevelno \u001B[38;5;241m>\u001B[39m\u001B[38;5;241m=\u001B[39m hdlr\u001B[38;5;241m.\u001B[39mlevel:\n\u001B[0;32m-> 1661\u001B[0m         \u001B[43mhdlr\u001B[49m\u001B[38;5;241;43m.\u001B[39;49m\u001B[43mhandle\u001B[49m\u001B[43m(\u001B[49m\u001B[43mrecord\u001B[49m\u001B[43m)\u001B[49m\n\u001B[1;32m   1662\u001B[0m \u001B[38;5;28;01mif\u001B[39;00m \u001B[38;5;129;01mnot\u001B[39;00m c\u001B[38;5;241m.\u001B[39mpropagate:\n\u001B[1;32m   1663\u001B[0m     c \u001B[38;5;241m=\u001B[39m \u001B[38;5;28;01mNone\u001B[39;00m    \u001B[38;5;66;03m#break out\u001B[39;00m\n",
      "File \u001B[0;32m/opt/homebrew/Cellar/python@3.9/3.9.12/Frameworks/Python.framework/Versions/3.9/lib/python3.9/logging/__init__.py:952\u001B[0m, in \u001B[0;36mHandler.handle\u001B[0;34m(self, record)\u001B[0m\n\u001B[1;32m    950\u001B[0m \u001B[38;5;28mself\u001B[39m\u001B[38;5;241m.\u001B[39macquire()\n\u001B[1;32m    951\u001B[0m \u001B[38;5;28;01mtry\u001B[39;00m:\n\u001B[0;32m--> 952\u001B[0m     \u001B[38;5;28;43mself\u001B[39;49m\u001B[38;5;241;43m.\u001B[39;49m\u001B[43memit\u001B[49m\u001B[43m(\u001B[49m\u001B[43mrecord\u001B[49m\u001B[43m)\u001B[49m\n\u001B[1;32m    953\u001B[0m \u001B[38;5;28;01mfinally\u001B[39;00m:\n\u001B[1;32m    954\u001B[0m     \u001B[38;5;28mself\u001B[39m\u001B[38;5;241m.\u001B[39mrelease()\n",
      "File \u001B[0;32m/opt/homebrew/Cellar/python@3.9/3.9.12/Frameworks/Python.framework/Versions/3.9/lib/python3.9/logging/handlers.py:73\u001B[0m, in \u001B[0;36mBaseRotatingHandler.emit\u001B[0;34m(self, record)\u001B[0m\n\u001B[1;32m     66\u001B[0m \u001B[38;5;124;03m\"\"\"\u001B[39;00m\n\u001B[1;32m     67\u001B[0m \u001B[38;5;124;03mEmit a record.\u001B[39;00m\n\u001B[1;32m     68\u001B[0m \n\u001B[1;32m     69\u001B[0m \u001B[38;5;124;03mOutput the record to the file, catering for rollover as described\u001B[39;00m\n\u001B[1;32m     70\u001B[0m \u001B[38;5;124;03min doRollover().\u001B[39;00m\n\u001B[1;32m     71\u001B[0m \u001B[38;5;124;03m\"\"\"\u001B[39;00m\n\u001B[1;32m     72\u001B[0m \u001B[38;5;28;01mtry\u001B[39;00m:\n\u001B[0;32m---> 73\u001B[0m     \u001B[38;5;28;01mif\u001B[39;00m \u001B[38;5;28;43mself\u001B[39;49m\u001B[38;5;241;43m.\u001B[39;49m\u001B[43mshouldRollover\u001B[49m\u001B[43m(\u001B[49m\u001B[43mrecord\u001B[49m\u001B[43m)\u001B[49m:\n\u001B[1;32m     74\u001B[0m         \u001B[38;5;28mself\u001B[39m\u001B[38;5;241m.\u001B[39mdoRollover()\n\u001B[1;32m     75\u001B[0m     logging\u001B[38;5;241m.\u001B[39mFileHandler\u001B[38;5;241m.\u001B[39memit(\u001B[38;5;28mself\u001B[39m, record)\n",
      "File \u001B[0;32m/opt/homebrew/Cellar/python@3.9/3.9.12/Frameworks/Python.framework/Versions/3.9/lib/python3.9/logging/handlers.py:189\u001B[0m, in \u001B[0;36mRotatingFileHandler.shouldRollover\u001B[0;34m(self, record)\u001B[0m\n\u001B[1;32m    182\u001B[0m \u001B[38;5;124;03m\"\"\"\u001B[39;00m\n\u001B[1;32m    183\u001B[0m \u001B[38;5;124;03mDetermine if rollover should occur.\u001B[39;00m\n\u001B[1;32m    184\u001B[0m \n\u001B[1;32m    185\u001B[0m \u001B[38;5;124;03mBasically, see if the supplied record would cause the file to exceed\u001B[39;00m\n\u001B[1;32m    186\u001B[0m \u001B[38;5;124;03mthe size limit we have.\u001B[39;00m\n\u001B[1;32m    187\u001B[0m \u001B[38;5;124;03m\"\"\"\u001B[39;00m\n\u001B[1;32m    188\u001B[0m \u001B[38;5;66;03m# See bpo-45401: Never rollover anything other than regular files\u001B[39;00m\n\u001B[0;32m--> 189\u001B[0m \u001B[38;5;28;01mif\u001B[39;00m \u001B[43mos\u001B[49m\u001B[38;5;241;43m.\u001B[39;49m\u001B[43mpath\u001B[49m\u001B[38;5;241;43m.\u001B[39;49m\u001B[43mexists\u001B[49m\u001B[43m(\u001B[49m\u001B[38;5;28;43mself\u001B[39;49m\u001B[38;5;241;43m.\u001B[39;49m\u001B[43mbaseFilename\u001B[49m\u001B[43m)\u001B[49m \u001B[38;5;129;01mand\u001B[39;00m \u001B[38;5;129;01mnot\u001B[39;00m os\u001B[38;5;241m.\u001B[39mpath\u001B[38;5;241m.\u001B[39misfile(\u001B[38;5;28mself\u001B[39m\u001B[38;5;241m.\u001B[39mbaseFilename):\n\u001B[1;32m    190\u001B[0m     \u001B[38;5;28;01mreturn\u001B[39;00m \u001B[38;5;28;01mFalse\u001B[39;00m\n\u001B[1;32m    191\u001B[0m \u001B[38;5;28;01mif\u001B[39;00m \u001B[38;5;28mself\u001B[39m\u001B[38;5;241m.\u001B[39mstream \u001B[38;5;129;01mis\u001B[39;00m \u001B[38;5;28;01mNone\u001B[39;00m:                 \u001B[38;5;66;03m# delay was set...\u001B[39;00m\n",
      "File \u001B[0;32m/opt/homebrew/Cellar/python@3.9/3.9.12/Frameworks/Python.framework/Versions/3.9/lib/python3.9/genericpath.py:19\u001B[0m, in \u001B[0;36mexists\u001B[0;34m(path)\u001B[0m\n\u001B[1;32m     17\u001B[0m \u001B[38;5;124;03m\"\"\"Test whether a path exists.  Returns False for broken symbolic links\"\"\"\u001B[39;00m\n\u001B[1;32m     18\u001B[0m \u001B[38;5;28;01mtry\u001B[39;00m:\n\u001B[0;32m---> 19\u001B[0m     \u001B[43mos\u001B[49m\u001B[38;5;241;43m.\u001B[39;49m\u001B[43mstat\u001B[49m\u001B[43m(\u001B[49m\u001B[43mpath\u001B[49m\u001B[43m)\u001B[49m\n\u001B[1;32m     20\u001B[0m \u001B[38;5;28;01mexcept\u001B[39;00m (\u001B[38;5;167;01mOSError\u001B[39;00m, \u001B[38;5;167;01mValueError\u001B[39;00m):\n\u001B[1;32m     21\u001B[0m     \u001B[38;5;28;01mreturn\u001B[39;00m \u001B[38;5;28;01mFalse\u001B[39;00m\n",
      "\u001B[0;31mKeyboardInterrupt\u001B[0m: "
     ]
    }
   ],
   "source": [
    "import logging\n",
    "from logging.handlers import RotatingFileHandler\n",
    "\n",
    "handler = RotatingFileHandler(filename='logs.log',\n",
    "                              maxBytes=1 * 1024 * 1024,\n",
    "                              backupCount=0,\n",
    "                              mode='a')\n",
    "\n",
    "\n",
    "log = logging.getLogger('root')\n",
    "log.setLevel(logging.DEBUG)\n",
    "log.addHandler(handler)\n",
    "\n",
    "for i in range(1000000000):\n",
    "    log.debug(\"PISDA\")\n",
    "    log.info('HYEK')\n",
    "    log.error('VSE NE TAK')"
   ]
  },
  {
   "cell_type": "code",
   "execution_count": 4,
   "metadata": {
    "collapsed": false,
    "pycharm": {
     "name": "#%%\n"
    }
   },
   "outputs": [
    {
     "ename": "KeyboardInterrupt",
     "evalue": "",
     "output_type": "error",
     "traceback": [
      "\u001B[0;31m---------------------------------------------------------------------------\u001B[0m",
      "\u001B[0;31mKeyboardInterrupt\u001B[0m                         Traceback (most recent call last)",
      "Input \u001B[0;32mIn [4]\u001B[0m, in \u001B[0;36m<cell line: 13>\u001B[0;34m()\u001B[0m\n\u001B[1;32m     12\u001B[0m start \u001B[38;5;241m=\u001B[39m time\u001B[38;5;241m.\u001B[39mtime()\n\u001B[1;32m     13\u001B[0m \u001B[38;5;28;01mfor\u001B[39;00m i \u001B[38;5;129;01min\u001B[39;00m \u001B[38;5;28mrange\u001B[39m(\u001B[38;5;241m100000\u001B[39m):\n\u001B[0;32m---> 14\u001B[0m     x \u001B[38;5;241m=\u001B[39m threading\u001B[38;5;241m.\u001B[39mThread(target\u001B[38;5;241m=\u001B[39m\u001B[43msend_poop\u001B[49m\u001B[43m(\u001B[49m\u001B[43mi\u001B[49m\u001B[43m)\u001B[49m,)\n\u001B[1;32m     15\u001B[0m     threads\u001B[38;5;241m.\u001B[39mappend(x)\n\u001B[1;32m     16\u001B[0m     x\u001B[38;5;241m.\u001B[39mstart()\n",
      "Input \u001B[0;32mIn [4]\u001B[0m, in \u001B[0;36msend_poop\u001B[0;34m(msg)\u001B[0m\n\u001B[1;32m      6\u001B[0m requests\u001B[38;5;241m.\u001B[39mpost(\u001B[38;5;124mf\u001B[39m\u001B[38;5;124m'\u001B[39m\u001B[38;5;124mhttp://127.0.0.1:5000/\u001B[39m\u001B[38;5;132;01m{\u001B[39;00mmsg\u001B[38;5;132;01m}\u001B[39;00m\u001B[38;5;124m'\u001B[39m)\n\u001B[1;32m      7\u001B[0m requests\u001B[38;5;241m.\u001B[39mpost(\u001B[38;5;124mf\u001B[39m\u001B[38;5;124m'\u001B[39m\u001B[38;5;124mhttp://127.0.0.1:5000/\u001B[39m\u001B[38;5;132;01m{\u001B[39;00mmsg\u001B[38;5;132;01m}\u001B[39;00m\u001B[38;5;124m 1\u001B[39m\u001B[38;5;124m'\u001B[39m)\n\u001B[0;32m----> 8\u001B[0m \u001B[43mrequests\u001B[49m\u001B[38;5;241;43m.\u001B[39;49m\u001B[43mpost\u001B[49m\u001B[43m(\u001B[49m\u001B[38;5;124;43mf\u001B[39;49m\u001B[38;5;124;43m'\u001B[39;49m\u001B[38;5;124;43mhttp://127.0.0.1:5000/\u001B[39;49m\u001B[38;5;132;43;01m{\u001B[39;49;00m\u001B[43mmsg\u001B[49m\u001B[38;5;132;43;01m}\u001B[39;49;00m\u001B[38;5;124;43m 2\u001B[39;49m\u001B[38;5;124;43m'\u001B[39;49m\u001B[43m)\u001B[49m\n\u001B[1;32m      9\u001B[0m requests\u001B[38;5;241m.\u001B[39mpost(\u001B[38;5;124mf\u001B[39m\u001B[38;5;124m'\u001B[39m\u001B[38;5;124mhttp://127.0.0.1:5000/\u001B[39m\u001B[38;5;132;01m{\u001B[39;00mmsg\u001B[38;5;132;01m}\u001B[39;00m\u001B[38;5;124m 3\u001B[39m\u001B[38;5;124m'\u001B[39m)\n",
      "File \u001B[0;32m/opt/homebrew/Cellar/jupyterlab/3.3.2/libexec/lib/python3.9/site-packages/requests/api.py:117\u001B[0m, in \u001B[0;36mpost\u001B[0;34m(url, data, json, **kwargs)\u001B[0m\n\u001B[1;32m    105\u001B[0m \u001B[38;5;28;01mdef\u001B[39;00m \u001B[38;5;21mpost\u001B[39m(url, data\u001B[38;5;241m=\u001B[39m\u001B[38;5;28;01mNone\u001B[39;00m, json\u001B[38;5;241m=\u001B[39m\u001B[38;5;28;01mNone\u001B[39;00m, \u001B[38;5;241m*\u001B[39m\u001B[38;5;241m*\u001B[39mkwargs):\n\u001B[1;32m    106\u001B[0m     \u001B[38;5;124mr\u001B[39m\u001B[38;5;124;03m\"\"\"Sends a POST request.\u001B[39;00m\n\u001B[1;32m    107\u001B[0m \n\u001B[1;32m    108\u001B[0m \u001B[38;5;124;03m    :param url: URL for the new :class:`Request` object.\u001B[39;00m\n\u001B[0;32m   (...)\u001B[0m\n\u001B[1;32m    114\u001B[0m \u001B[38;5;124;03m    :rtype: requests.Response\u001B[39;00m\n\u001B[1;32m    115\u001B[0m \u001B[38;5;124;03m    \"\"\"\u001B[39;00m\n\u001B[0;32m--> 117\u001B[0m     \u001B[38;5;28;01mreturn\u001B[39;00m \u001B[43mrequest\u001B[49m\u001B[43m(\u001B[49m\u001B[38;5;124;43m'\u001B[39;49m\u001B[38;5;124;43mpost\u001B[39;49m\u001B[38;5;124;43m'\u001B[39;49m\u001B[43m,\u001B[49m\u001B[43m \u001B[49m\u001B[43murl\u001B[49m\u001B[43m,\u001B[49m\u001B[43m \u001B[49m\u001B[43mdata\u001B[49m\u001B[38;5;241;43m=\u001B[39;49m\u001B[43mdata\u001B[49m\u001B[43m,\u001B[49m\u001B[43m \u001B[49m\u001B[43mjson\u001B[49m\u001B[38;5;241;43m=\u001B[39;49m\u001B[43mjson\u001B[49m\u001B[43m,\u001B[49m\u001B[43m \u001B[49m\u001B[38;5;241;43m*\u001B[39;49m\u001B[38;5;241;43m*\u001B[39;49m\u001B[43mkwargs\u001B[49m\u001B[43m)\u001B[49m\n",
      "File \u001B[0;32m/opt/homebrew/Cellar/jupyterlab/3.3.2/libexec/lib/python3.9/site-packages/requests/api.py:61\u001B[0m, in \u001B[0;36mrequest\u001B[0;34m(method, url, **kwargs)\u001B[0m\n\u001B[1;32m     57\u001B[0m \u001B[38;5;66;03m# By using the 'with' statement we are sure the session is closed, thus we\u001B[39;00m\n\u001B[1;32m     58\u001B[0m \u001B[38;5;66;03m# avoid leaving sockets open which can trigger a ResourceWarning in some\u001B[39;00m\n\u001B[1;32m     59\u001B[0m \u001B[38;5;66;03m# cases, and look like a memory leak in others.\u001B[39;00m\n\u001B[1;32m     60\u001B[0m \u001B[38;5;28;01mwith\u001B[39;00m sessions\u001B[38;5;241m.\u001B[39mSession() \u001B[38;5;28;01mas\u001B[39;00m session:\n\u001B[0;32m---> 61\u001B[0m     \u001B[38;5;28;01mreturn\u001B[39;00m session\u001B[38;5;241m.\u001B[39mrequest(method\u001B[38;5;241m=\u001B[39mmethod, url\u001B[38;5;241m=\u001B[39murl, \u001B[38;5;241m*\u001B[39m\u001B[38;5;241m*\u001B[39mkwargs)\n",
      "File \u001B[0;32m/opt/homebrew/Cellar/jupyterlab/3.3.2/libexec/lib/python3.9/site-packages/requests/sessions.py:415\u001B[0m, in \u001B[0;36mSession.__exit__\u001B[0;34m(self, *args)\u001B[0m\n\u001B[1;32m    414\u001B[0m \u001B[38;5;28;01mdef\u001B[39;00m \u001B[38;5;21m__exit__\u001B[39m(\u001B[38;5;28mself\u001B[39m, \u001B[38;5;241m*\u001B[39margs):\n\u001B[0;32m--> 415\u001B[0m     \u001B[38;5;28;43mself\u001B[39;49m\u001B[38;5;241;43m.\u001B[39;49m\u001B[43mclose\u001B[49m\u001B[43m(\u001B[49m\u001B[43m)\u001B[49m\n",
      "File \u001B[0;32m/opt/homebrew/Cellar/jupyterlab/3.3.2/libexec/lib/python3.9/site-packages/requests/sessions.py:737\u001B[0m, in \u001B[0;36mSession.close\u001B[0;34m(self)\u001B[0m\n\u001B[1;32m    735\u001B[0m \u001B[38;5;124;03m\"\"\"Closes all adapters and as such the session\"\"\"\u001B[39;00m\n\u001B[1;32m    736\u001B[0m \u001B[38;5;28;01mfor\u001B[39;00m v \u001B[38;5;129;01min\u001B[39;00m \u001B[38;5;28mself\u001B[39m\u001B[38;5;241m.\u001B[39madapters\u001B[38;5;241m.\u001B[39mvalues():\n\u001B[0;32m--> 737\u001B[0m     \u001B[43mv\u001B[49m\u001B[38;5;241;43m.\u001B[39;49m\u001B[43mclose\u001B[49m\u001B[43m(\u001B[49m\u001B[43m)\u001B[49m\n",
      "File \u001B[0;32m/opt/homebrew/Cellar/jupyterlab/3.3.2/libexec/lib/python3.9/site-packages/requests/adapters.py:326\u001B[0m, in \u001B[0;36mHTTPAdapter.close\u001B[0;34m(self)\u001B[0m\n\u001B[1;32m    320\u001B[0m \u001B[38;5;28;01mdef\u001B[39;00m \u001B[38;5;21mclose\u001B[39m(\u001B[38;5;28mself\u001B[39m):\n\u001B[1;32m    321\u001B[0m     \u001B[38;5;124;03m\"\"\"Disposes of any internal state.\u001B[39;00m\n\u001B[1;32m    322\u001B[0m \n\u001B[1;32m    323\u001B[0m \u001B[38;5;124;03m    Currently, this closes the PoolManager and any active ProxyManager,\u001B[39;00m\n\u001B[1;32m    324\u001B[0m \u001B[38;5;124;03m    which closes any pooled connections.\u001B[39;00m\n\u001B[1;32m    325\u001B[0m \u001B[38;5;124;03m    \"\"\"\u001B[39;00m\n\u001B[0;32m--> 326\u001B[0m     \u001B[38;5;28;43mself\u001B[39;49m\u001B[38;5;241;43m.\u001B[39;49m\u001B[43mpoolmanager\u001B[49m\u001B[38;5;241;43m.\u001B[39;49m\u001B[43mclear\u001B[49m\u001B[43m(\u001B[49m\u001B[43m)\u001B[49m\n\u001B[1;32m    327\u001B[0m     \u001B[38;5;28;01mfor\u001B[39;00m proxy \u001B[38;5;129;01min\u001B[39;00m \u001B[38;5;28mself\u001B[39m\u001B[38;5;241m.\u001B[39mproxy_manager\u001B[38;5;241m.\u001B[39mvalues():\n\u001B[1;32m    328\u001B[0m         proxy\u001B[38;5;241m.\u001B[39mclear()\n",
      "File \u001B[0;32m/opt/homebrew/Cellar/jupyterlab/3.3.2/libexec/lib/python3.9/site-packages/urllib3/poolmanager.py:223\u001B[0m, in \u001B[0;36mPoolManager.clear\u001B[0;34m(self)\u001B[0m\n\u001B[1;32m    216\u001B[0m \u001B[38;5;28;01mdef\u001B[39;00m \u001B[38;5;21mclear\u001B[39m(\u001B[38;5;28mself\u001B[39m):\n\u001B[1;32m    217\u001B[0m     \u001B[38;5;124;03m\"\"\"\u001B[39;00m\n\u001B[1;32m    218\u001B[0m \u001B[38;5;124;03m    Empty our store of pools and direct them all to close.\u001B[39;00m\n\u001B[1;32m    219\u001B[0m \n\u001B[1;32m    220\u001B[0m \u001B[38;5;124;03m    This will not affect in-flight connections, but they will not be\u001B[39;00m\n\u001B[1;32m    221\u001B[0m \u001B[38;5;124;03m    re-used after completion.\u001B[39;00m\n\u001B[1;32m    222\u001B[0m \u001B[38;5;124;03m    \"\"\"\u001B[39;00m\n\u001B[0;32m--> 223\u001B[0m     \u001B[38;5;28;43mself\u001B[39;49m\u001B[38;5;241;43m.\u001B[39;49m\u001B[43mpools\u001B[49m\u001B[38;5;241;43m.\u001B[39;49m\u001B[43mclear\u001B[49m\u001B[43m(\u001B[49m\u001B[43m)\u001B[49m\n",
      "File \u001B[0;32m/opt/homebrew/Cellar/jupyterlab/3.3.2/libexec/lib/python3.9/site-packages/urllib3/_collections.py:100\u001B[0m, in \u001B[0;36mRecentlyUsedContainer.clear\u001B[0;34m(self)\u001B[0m\n\u001B[1;32m     98\u001B[0m \u001B[38;5;28;01mif\u001B[39;00m \u001B[38;5;28mself\u001B[39m\u001B[38;5;241m.\u001B[39mdispose_func:\n\u001B[1;32m     99\u001B[0m     \u001B[38;5;28;01mfor\u001B[39;00m value \u001B[38;5;129;01min\u001B[39;00m values:\n\u001B[0;32m--> 100\u001B[0m         \u001B[38;5;28;43mself\u001B[39;49m\u001B[38;5;241;43m.\u001B[39;49m\u001B[43mdispose_func\u001B[49m\u001B[43m(\u001B[49m\u001B[43mvalue\u001B[49m\u001B[43m)\u001B[49m\n",
      "File \u001B[0;32m/opt/homebrew/Cellar/jupyterlab/3.3.2/libexec/lib/python3.9/site-packages/urllib3/poolmanager.py:174\u001B[0m, in \u001B[0;36mPoolManager.__init__.<locals>.<lambda>\u001B[0;34m(p)\u001B[0m\n\u001B[1;32m    172\u001B[0m RequestMethods\u001B[38;5;241m.\u001B[39m\u001B[38;5;21m__init__\u001B[39m(\u001B[38;5;28mself\u001B[39m, headers)\n\u001B[1;32m    173\u001B[0m \u001B[38;5;28mself\u001B[39m\u001B[38;5;241m.\u001B[39mconnection_pool_kw \u001B[38;5;241m=\u001B[39m connection_pool_kw\n\u001B[0;32m--> 174\u001B[0m \u001B[38;5;28mself\u001B[39m\u001B[38;5;241m.\u001B[39mpools \u001B[38;5;241m=\u001B[39m RecentlyUsedContainer(num_pools, dispose_func\u001B[38;5;241m=\u001B[39m\u001B[38;5;28;01mlambda\u001B[39;00m p: \u001B[43mp\u001B[49m\u001B[38;5;241;43m.\u001B[39;49m\u001B[43mclose\u001B[49m\u001B[43m(\u001B[49m\u001B[43m)\u001B[49m)\n\u001B[1;32m    176\u001B[0m \u001B[38;5;66;03m# Locally set the pool classes and keys so other PoolManagers can\u001B[39;00m\n\u001B[1;32m    177\u001B[0m \u001B[38;5;66;03m# override them.\u001B[39;00m\n\u001B[1;32m    178\u001B[0m \u001B[38;5;28mself\u001B[39m\u001B[38;5;241m.\u001B[39mpool_classes_by_scheme \u001B[38;5;241m=\u001B[39m pool_classes_by_scheme\n",
      "File \u001B[0;32m/opt/homebrew/Cellar/jupyterlab/3.3.2/libexec/lib/python3.9/site-packages/urllib3/connectionpool.py:494\u001B[0m, in \u001B[0;36mHTTPConnectionPool.close\u001B[0;34m(self)\u001B[0m\n\u001B[1;32m    492\u001B[0m \u001B[38;5;28;01mtry\u001B[39;00m:\n\u001B[1;32m    493\u001B[0m     \u001B[38;5;28;01mwhile\u001B[39;00m \u001B[38;5;28;01mTrue\u001B[39;00m:\n\u001B[0;32m--> 494\u001B[0m         conn \u001B[38;5;241m=\u001B[39m \u001B[43mold_pool\u001B[49m\u001B[38;5;241;43m.\u001B[39;49m\u001B[43mget\u001B[49m\u001B[43m(\u001B[49m\u001B[43mblock\u001B[49m\u001B[38;5;241;43m=\u001B[39;49m\u001B[38;5;28;43;01mFalse\u001B[39;49;00m\u001B[43m)\u001B[49m\n\u001B[1;32m    495\u001B[0m         \u001B[38;5;28;01mif\u001B[39;00m conn:\n\u001B[1;32m    496\u001B[0m             conn\u001B[38;5;241m.\u001B[39mclose()\n",
      "File \u001B[0;32m/opt/homebrew/Cellar/python@3.9/3.9.12/Frameworks/Python.framework/Versions/3.9/lib/python3.9/queue.py:182\u001B[0m, in \u001B[0;36mQueue.get\u001B[0;34m(self, block, timeout)\u001B[0m\n\u001B[1;32m    180\u001B[0m         \u001B[38;5;28mself\u001B[39m\u001B[38;5;241m.\u001B[39mnot_empty\u001B[38;5;241m.\u001B[39mwait(remaining)\n\u001B[1;32m    181\u001B[0m item \u001B[38;5;241m=\u001B[39m \u001B[38;5;28mself\u001B[39m\u001B[38;5;241m.\u001B[39m_get()\n\u001B[0;32m--> 182\u001B[0m \u001B[38;5;28;43mself\u001B[39;49m\u001B[38;5;241;43m.\u001B[39;49m\u001B[43mnot_full\u001B[49m\u001B[38;5;241;43m.\u001B[39;49m\u001B[43mnotify\u001B[49m\u001B[43m(\u001B[49m\u001B[43m)\u001B[49m\n\u001B[1;32m    183\u001B[0m \u001B[38;5;28;01mreturn\u001B[39;00m item\n",
      "File \u001B[0;32m/opt/homebrew/Cellar/python@3.9/3.9.12/Frameworks/Python.framework/Versions/3.9/lib/python3.9/threading.py:364\u001B[0m, in \u001B[0;36mCondition.notify\u001B[0;34m(self, n)\u001B[0m\n\u001B[1;32m    362\u001B[0m     \u001B[38;5;28;01mraise\u001B[39;00m \u001B[38;5;167;01mRuntimeError\u001B[39;00m(\u001B[38;5;124m\"\u001B[39m\u001B[38;5;124mcannot notify on un-acquired lock\u001B[39m\u001B[38;5;124m\"\u001B[39m)\n\u001B[1;32m    363\u001B[0m all_waiters \u001B[38;5;241m=\u001B[39m \u001B[38;5;28mself\u001B[39m\u001B[38;5;241m.\u001B[39m_waiters\n\u001B[0;32m--> 364\u001B[0m waiters_to_notify \u001B[38;5;241m=\u001B[39m _deque(\u001B[43m_islice\u001B[49m\u001B[43m(\u001B[49m\u001B[43mall_waiters\u001B[49m\u001B[43m,\u001B[49m\u001B[43m \u001B[49m\u001B[43mn\u001B[49m\u001B[43m)\u001B[49m)\n\u001B[1;32m    365\u001B[0m \u001B[38;5;28;01mif\u001B[39;00m \u001B[38;5;129;01mnot\u001B[39;00m waiters_to_notify:\n\u001B[1;32m    366\u001B[0m     \u001B[38;5;28;01mreturn\u001B[39;00m\n",
      "\u001B[0;31mKeyboardInterrupt\u001B[0m: "
     ]
    }
   ],
   "source": [
    "import requests\n",
    "import threading\n",
    "import time\n",
    "\n",
    "def send_poop(msg: str) -> None:\n",
    "    requests.post(f'http://127.0.0.1:5000/{msg}')\n",
    "    requests.post(f'http://127.0.0.1:5000/{msg} 1')\n",
    "    requests.post(f'http://127.0.0.1:5000/{msg} 2')\n",
    "    requests.post(f'http://127.0.0.1:5000/{msg} 3')\n",
    "\n",
    "threads = []\n",
    "start = time.time()\n",
    "for i in range(100000):\n",
    "    x = threading.Thread(target=send_poop(i),)\n",
    "    threads.append(x)\n",
    "    x.start()\n",
    "print(time.time() - start)"
   ]
  },
  {
   "cell_type": "code",
   "execution_count": null,
   "metadata": {
    "collapsed": false,
    "pycharm": {
     "name": "#%%\n"
    }
   },
   "outputs": [],
   "source": []
  }
 ],
 "metadata": {
  "kernelspec": {
   "display_name": "Python 3",
   "language": "python",
   "name": "python3"
  },
  "language_info": {
   "codemirror_mode": {
    "name": "ipython",
    "version": 3
   },
   "file_extension": ".py",
   "mimetype": "text/x-python",
   "name": "python",
   "nbconvert_exporter": "python",
   "pygments_lexer": "ipython3",
   "version": "3.9.12"
  }
 },
 "nbformat": 4,
 "nbformat_minor": 0
}